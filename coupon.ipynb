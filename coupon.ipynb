{
 "cells": [
  {
   "cell_type": "code",
   "execution_count": 5,
   "metadata": {},
   "outputs": [],
   "source": [
    "import string\n",
    "import random"
   ]
  },
  {
   "cell_type": "code",
   "execution_count": 23,
   "metadata": {},
   "outputs": [],
   "source": [
    "coupondata = open('coupondata.txt', 'w')\n",
    "for count in range(200):\n",
    "    count += 1\n",
    "    coupon = ''\n",
    "    for num in range(12):\n",
    "        coupon += random.choice(string.ascii_uppercase + string.digits)\n",
    "    data = 'coupon no.' + str(count) + ': ' + coupon + '\\n'\n",
    "    coupondata.write(data)\n",
    "coupondata.close()\n"
   ]
  }
 ],
 "metadata": {
  "interpreter": {
   "hash": "111ec9d3badd4bdc5bb4c5104c9c1ec48cb8e627cdc8b194469614f2565f7746"
  },
  "kernelspec": {
   "display_name": "Python 3.9.5 64-bit",
   "language": "python",
   "name": "python3"
  },
  "language_info": {
   "codemirror_mode": {
    "name": "ipython",
    "version": 3
   },
   "file_extension": ".py",
   "mimetype": "text/x-python",
   "name": "python",
   "nbconvert_exporter": "python",
   "pygments_lexer": "ipython3",
   "version": "3.9.5"
  },
  "orig_nbformat": 4
 },
 "nbformat": 4,
 "nbformat_minor": 2
}
